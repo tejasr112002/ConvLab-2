{
  "nbformat": 4,
  "nbformat_minor": 0,
  "metadata": {
    "kernelspec": {
      "display_name": "Python 3",
      "language": "python",
      "name": "python3"
    },
    "language_info": {
      "codemirror_mode": {
        "name": "ipython",
        "version": 3
      },
      "file_extension": ".py",
      "mimetype": "text/x-python",
      "name": "python",
      "nbconvert_exporter": "python",
      "pygments_lexer": "ipython3",
      "version": "3.8.5"
    },
    "colab": {
      "name": "TGIFHacks #125 Cryptocurrency Forecasting.ipynb",
      "provenance": [],
      "collapsed_sections": [],
      "include_colab_link": true
    }
  },
  "cells": [
    {
      "cell_type": "markdown",
      "metadata": {
        "id": "view-in-github",
        "colab_type": "text"
      },
      "source": [
        "<a href=\"https://colab.research.google.com/github/tejasr112002/ConvLab-2/blob/master/TGIFHacks_125_Cryptocurrency_Forecasting.ipynb\" target=\"_parent\"><img src=\"https://colab.research.google.com/assets/colab-badge.svg\" alt=\"Open In Colab\"/></a>"
      ]
    },
    {
      "cell_type": "markdown",
      "metadata": {
        "id": "iIWd8HOLbNHM"
      },
      "source": [
        ""
      ]
    },
    {
      "cell_type": "code",
      "metadata": {
        "id": "wevmDEpmW-jq",
        "colab": {
          "base_uri": "https://localhost:8080/"
        },
        "outputId": "64a93019-a56f-48d8-b36e-2269208ef4d9"
      },
      "source": [
        "!pip install alpha_vantage"
      ],
      "execution_count": 1,
      "outputs": [
        {
          "output_type": "stream",
          "name": "stdout",
          "text": [
            "Collecting alpha_vantage\n",
            "  Downloading alpha_vantage-2.3.1-py3-none-any.whl (31 kB)\n",
            "Requirement already satisfied: requests in /usr/local/lib/python3.7/dist-packages (from alpha_vantage) (2.23.0)\n",
            "Collecting aiohttp\n",
            "  Downloading aiohttp-3.7.4.post0-cp37-cp37m-manylinux2014_x86_64.whl (1.3 MB)\n",
            "\u001b[K     |████████████████████████████████| 1.3 MB 29.9 MB/s \n",
            "\u001b[?25hRequirement already satisfied: chardet<5.0,>=2.0 in /usr/local/lib/python3.7/dist-packages (from aiohttp->alpha_vantage) (3.0.4)\n",
            "Requirement already satisfied: typing-extensions>=3.6.5 in /usr/local/lib/python3.7/dist-packages (from aiohttp->alpha_vantage) (3.7.4.3)\n",
            "Collecting multidict<7.0,>=4.5\n",
            "  Downloading multidict-5.1.0-cp37-cp37m-manylinux2014_x86_64.whl (142 kB)\n",
            "\u001b[K     |████████████████████████████████| 142 kB 62.0 MB/s \n",
            "\u001b[?25hCollecting async-timeout<4.0,>=3.0\n",
            "  Downloading async_timeout-3.0.1-py3-none-any.whl (8.2 kB)\n",
            "Requirement already satisfied: attrs>=17.3.0 in /usr/local/lib/python3.7/dist-packages (from aiohttp->alpha_vantage) (21.2.0)\n",
            "Collecting yarl<2.0,>=1.0\n",
            "  Downloading yarl-1.6.3-cp37-cp37m-manylinux2014_x86_64.whl (294 kB)\n",
            "\u001b[K     |████████████████████████████████| 294 kB 59.0 MB/s \n",
            "\u001b[?25hRequirement already satisfied: idna>=2.0 in /usr/local/lib/python3.7/dist-packages (from yarl<2.0,>=1.0->aiohttp->alpha_vantage) (2.10)\n",
            "Requirement already satisfied: certifi>=2017.4.17 in /usr/local/lib/python3.7/dist-packages (from requests->alpha_vantage) (2021.5.30)\n",
            "Requirement already satisfied: urllib3!=1.25.0,!=1.25.1,<1.26,>=1.21.1 in /usr/local/lib/python3.7/dist-packages (from requests->alpha_vantage) (1.24.3)\n",
            "Installing collected packages: multidict, yarl, async-timeout, aiohttp, alpha-vantage\n",
            "Successfully installed aiohttp-3.7.4.post0 alpha-vantage-2.3.1 async-timeout-3.0.1 multidict-5.1.0 yarl-1.6.3\n"
          ]
        }
      ]
    },
    {
      "cell_type": "code",
      "metadata": {
        "id": "zOOjrwt9bNHO"
      },
      "source": [
        "import pandas as pd\n",
        "import numpy as np\n",
        "import matplotlib.pyplot as plt\n",
        "from alpha_vantage.cryptocurrencies import CryptoCurrencies"
      ],
      "execution_count": 2,
      "outputs": []
    },
    {
      "cell_type": "code",
      "metadata": {
        "colab": {
          "base_uri": "https://localhost:8080/",
          "height": 313
        },
        "id": "INklhFEVbNHP",
        "outputId": "6602ec70-2fcf-4b9f-b699-dfdf929137bc"
      },
      "source": [
        "cc = CryptoCurrencies(key='QF4VJRW3HTAIC4YA', output_format='pandas')\n",
        "crypto_data, meta_data = cc.get_digital_currency_daily(symbol='BTC', market='CNY')\n",
        "crypto_data['4b. close (USD)'].plot()\n",
        "plt.tight_layout()\n",
        "plt.title('Daily close value for bitcoin (BTC)')\n",
        "plt.grid()\n",
        "plt.show()"
      ],
      "execution_count": 3,
      "outputs": [
        {
          "output_type": "display_data",
          "data": {
            "image/png": "[encoded data removed]",
            "text/plain": [
              "<Figure size 432x288 with 1 Axes>"
            ]
          },
          "metadata": {
            "needs_background": "light"
          }
        }
      ]
    },
    {
      "cell_type": "code",
      "metadata": {
        "colab": {
          "base_uri": "https://localhost:8080/",
          "height": 637
        },
        "id": "hY9144k6VS--",
        "outputId": "25a065ee-3d72-4488-8447-3f2facae7144"
      },
      "source": [
        "crypto_data\n"
      ],
      "execution_count": 64,
      "outputs": [
        {
          "output_type": "execute_result",
          "data": {
            "text/html": [
              "<div>\n",
              "<style scoped>\n",
              "    .dataframe tbody tr th:only-of-type {\n",
              "        vertical-align: middle;\n",
              "    }\n",
              "\n",
              "    .dataframe tbody tr th {\n",
              "        vertical-align: top;\n",
              "    }\n",
              "\n",
              "    .dataframe thead th {\n",
              "        text-align: right;\n",
              "    }\n",
              "</style>\n",
              "<table border=\"1\" class=\"dataframe\">\n",
              "  <thead>\n",
              "    <tr style=\"text-align: right;\">\n",
              "      <th></th>\n",
              "      <th>1a. open (CNY)</th>\n",
              "      <th>1b. open (USD)</th>\n",
              "      <th>2a. high (CNY)</th>\n",
              "      <th>2b. high (USD)</th>\n",
              "      <th>3a. low (CNY)</th>\n",
              "      <th>3b. low (USD)</th>\n",
              "      <th>4a. close (CNY)</th>\n",
              "      <th>4b. close (USD)</th>\n",
              "      <th>5. volume</th>\n",
              "      <th>6. market cap (USD)</th>\n",
              "    </tr>\n",
              "    <tr>\n",
              "      <th>date</th>\n",
              "      <th></th>\n",
              "      <th></th>\n",
              "      <th></th>\n",
              "      <th></th>\n",
              "      <th></th>\n",
              "      <th></th>\n",
              "      <th></th>\n",
              "      <th></th>\n",
              "      <th></th>\n",
              "      <th></th>\n",
              "    </tr>\n",
              "  </thead>\n",
              "  <tbody>\n",
              "    <tr>\n",
              "      <th>2021-08-31</th>\n",
              "      <td>303838.47897</td>\n",
              "      <td>46982.91</td>\n",
              "      <td>304859.48893</td>\n",
              "      <td>47140.79</td>\n",
              "      <td>302008.90000</td>\n",
              "      <td>46700.00</td>\n",
              "      <td>303109.06604</td>\n",
              "      <td>46870.12</td>\n",
              "      <td>2620.934600</td>\n",
              "      <td>2620.934600</td>\n",
              "    </tr>\n",
              "    <tr>\n",
              "      <th>2021-08-30</th>\n",
              "      <td>315381.62128</td>\n",
              "      <td>48767.84</td>\n",
              "      <td>316162.64087</td>\n",
              "      <td>48888.61</td>\n",
              "      <td>302998.35100</td>\n",
              "      <td>46853.00</td>\n",
              "      <td>303838.47897</td>\n",
              "      <td>46982.91</td>\n",
              "      <td>40288.350830</td>\n",
              "      <td>40288.350830</td>\n",
              "    </tr>\n",
              "    <tr>\n",
              "      <th>2021-08-29</th>\n",
              "      <td>316206.22845</td>\n",
              "      <td>48895.35</td>\n",
              "      <td>320971.89009</td>\n",
              "      <td>49632.27</td>\n",
              "      <td>308880.34618</td>\n",
              "      <td>47762.54</td>\n",
              "      <td>315381.55661</td>\n",
              "      <td>48767.83</td>\n",
              "      <td>32652.283473</td>\n",
              "      <td>32652.283473</td>\n",
              "    </tr>\n",
              "    <tr>\n",
              "      <th>2021-08-28</th>\n",
              "      <td>317335.04330</td>\n",
              "      <td>49069.90</td>\n",
              "      <td>318816.63300</td>\n",
              "      <td>49299.00</td>\n",
              "      <td>312659.27296</td>\n",
              "      <td>48346.88</td>\n",
              "      <td>316206.22845</td>\n",
              "      <td>48895.35</td>\n",
              "      <td>26681.063786</td>\n",
              "      <td>26681.063786</td>\n",
              "    </tr>\n",
              "    <tr>\n",
              "      <th>2021-08-27</th>\n",
              "      <td>302939.24262</td>\n",
              "      <td>46843.86</td>\n",
              "      <td>317852.59731</td>\n",
              "      <td>49149.93</td>\n",
              "      <td>299732.51600</td>\n",
              "      <td>46348.00</td>\n",
              "      <td>317335.04330</td>\n",
              "      <td>49069.90</td>\n",
              "      <td>42068.104965</td>\n",
              "      <td>42068.104965</td>\n",
              "    </tr>\n",
              "    <tr>\n",
              "      <th>...</th>\n",
              "      <td>...</td>\n",
              "      <td>...</td>\n",
              "      <td>...</td>\n",
              "      <td>...</td>\n",
              "      <td>...</td>\n",
              "      <td>...</td>\n",
              "      <td>...</td>\n",
              "      <td>...</td>\n",
              "      <td>...</td>\n",
              "      <td>...</td>\n",
              "    </tr>\n",
              "    <tr>\n",
              "      <th>2018-12-10</th>\n",
              "      <td>22948.08483</td>\n",
              "      <td>3548.49</td>\n",
              "      <td>23345.87000</td>\n",
              "      <td>3610.00</td>\n",
              "      <td>21794.50137</td>\n",
              "      <td>3370.11</td>\n",
              "      <td>22200.43496</td>\n",
              "      <td>3432.88</td>\n",
              "      <td>40989.244553</td>\n",
              "      <td>40989.244553</td>\n",
              "    </tr>\n",
              "    <tr>\n",
              "      <th>2018-12-09</th>\n",
              "      <td>22061.26512</td>\n",
              "      <td>3411.36</td>\n",
              "      <td>23656.28600</td>\n",
              "      <td>3658.00</td>\n",
              "      <td>21949.25668</td>\n",
              "      <td>3394.04</td>\n",
              "      <td>22927.90779</td>\n",
              "      <td>3545.37</td>\n",
              "      <td>45956.893296</td>\n",
              "      <td>45956.893296</td>\n",
              "    </tr>\n",
              "    <tr>\n",
              "      <th>2018-12-08</th>\n",
              "      <td>22010.88719</td>\n",
              "      <td>3403.57</td>\n",
              "      <td>22602.16500</td>\n",
              "      <td>3495.00</td>\n",
              "      <td>20836.67400</td>\n",
              "      <td>3222.00</td>\n",
              "      <td>22058.48431</td>\n",
              "      <td>3410.93</td>\n",
              "      <td>55365.949949</td>\n",
              "      <td>55365.949949</td>\n",
              "    </tr>\n",
              "    <tr>\n",
              "      <th>2018-12-07</th>\n",
              "      <td>22691.08625</td>\n",
              "      <td>3508.75</td>\n",
              "      <td>22957.78533</td>\n",
              "      <td>3549.99</td>\n",
              "      <td>20853.48820</td>\n",
              "      <td>3224.60</td>\n",
              "      <td>22010.75785</td>\n",
              "      <td>3403.55</td>\n",
              "      <td>95145.457442</td>\n",
              "      <td>95145.457442</td>\n",
              "    </tr>\n",
              "    <tr>\n",
              "      <th>2018-12-06</th>\n",
              "      <td>24370.50148</td>\n",
              "      <td>3768.44</td>\n",
              "      <td>25221.23533</td>\n",
              "      <td>3899.99</td>\n",
              "      <td>22634.50000</td>\n",
              "      <td>3500.00</td>\n",
              "      <td>22691.08625</td>\n",
              "      <td>3508.75</td>\n",
              "      <td>68378.796943</td>\n",
              "      <td>68378.796943</td>\n",
              "    </tr>\n",
              "  </tbody>\n",
              "</table>\n",
              "<p>1000 rows × 10 columns</p>\n",
              "</div>"
            ],
            "text/plain": [
              "            1a. open (CNY)  1b. open (USD)  ...     5. volume  6. market cap (USD)\n",
              "date                                        ...                                   \n",
              "2021-08-31    303838.47897        46982.91  ...   2620.934600          2620.934600\n",
              "2021-08-30    315381.62128        48767.84  ...  40288.350830         40288.350830\n",
              "2021-08-29    316206.22845        48895.35  ...  32652.283473         32652.283473\n",
              "2021-08-28    317335.04330        49069.90  ...  26681.063786         26681.063786\n",
              "2021-08-27    302939.24262        46843.86  ...  42068.104965         42068.104965\n",
              "...                    ...             ...  ...           ...                  ...\n",
              "2018-12-10     22948.08483         3548.49  ...  40989.244553         40989.244553\n",
              "2018-12-09     22061.26512         3411.36  ...  45956.893296         45956.893296\n",
              "2018-12-08     22010.88719         3403.57  ...  55365.949949         55365.949949\n",
              "2018-12-07     22691.08625         3508.75  ...  95145.457442         95145.457442\n",
              "2018-12-06     24370.50148         3768.44  ...  68378.796943         68378.796943\n",
              "\n",
              "[1000 rows x 10 columns]"
            ]
          },
          "metadata": {},
          "execution_count": 64
        }
      ]
    },
    {
      "cell_type": "code",
      "metadata": {
        "colab": {
          "base_uri": "https://localhost:8080/"
        },
        "id": "Vjc-WY1cbv42",
        "outputId": "d76e5809-8988-432f-9a39-33640c5469f4"
      },
      "source": [
        "crypto_df = crypto_data[\"4b. close (USD)\"]\n",
        "crypto_df"
      ],
      "execution_count": 5,
      "outputs": [
        {
          "output_type": "execute_result",
          "data": {
            "text/plain": [
              "date\n",
              "2021-08-31    46870.12\n",
              "2021-08-30    46982.91\n",
              "2021-08-29    48767.83\n",
              "2021-08-28    48895.35\n",
              "2021-08-27    49069.90\n",
              "                ...   \n",
              "2018-12-10     3432.88\n",
              "2018-12-09     3545.37\n",
              "2018-12-08     3410.93\n",
              "2018-12-07     3403.55\n",
              "2018-12-06     3508.75\n",
              "Name: 4b. close (USD), Length: 1000, dtype: float64"
            ]
          },
          "metadata": {},
          "execution_count": 5
        }
      ]
    },
    {
      "cell_type": "code",
      "metadata": {
        "colab": {
          "base_uri": "https://localhost:8080/"
        },
        "id": "E427iO1mbNHQ",
        "outputId": "9d9fc661-4d9d-4b72-d523-4481a62c9882"
      },
      "source": [
        "crypto_df.describe()"
      ],
      "execution_count": 6,
      "outputs": [
        {
          "output_type": "execute_result",
          "data": {
            "text/plain": [
              "count     1000.000000\n",
              "mean     17628.726990\n",
              "std      16259.974775\n",
              "min       3211.720000\n",
              "25%       7541.085000\n",
              "50%       9795.995000\n",
              "75%      24044.325000\n",
              "max      63575.000000\n",
              "Name: 4b. close (USD), dtype: float64"
            ]
          },
          "metadata": {},
          "execution_count": 6
        }
      ]
    },
    {
      "cell_type": "code",
      "metadata": {
        "id": "XJN9Nv4adLv1"
      },
      "source": [
        "bitcoin_ordered_df = crypto_df.loc[::-1]"
      ],
      "execution_count": 7,
      "outputs": []
    },
    {
      "cell_type": "code",
      "metadata": {
        "id": "iDUE6pkxbNHU"
      },
      "source": [
        "import math\n",
        "from keras.models import Sequential\n",
        "from keras.layers import Dense\n",
        "from keras.layers import LSTM, Flatten\n",
        "from sklearn.preprocessing import MinMaxScaler\n",
        "from sklearn.metrics import mean_squared_error\n",
        "from keras.layers import ConvLSTM2D\n",
        "from keras.callbacks import EarlyStopping\n",
        "import datetime\n",
        "from keras.preprocessing.sequence import TimeseriesGenerator\n",
        "import numpy"
      ],
      "execution_count": 8,
      "outputs": []
    },
    {
      "cell_type": "code",
      "metadata": {
        "id": "qAMp9weLbNHU"
      },
      "source": [
        "dataset=bitcoin_ordered_df.values\n",
        "#dataset.reshape(-1, 1)\n",
        "dataset=dataset.astype('float32')\n",
        "dataset = np.reshape(dataset,(dataset.size,1))"
      ],
      "execution_count": 9,
      "outputs": []
    },
    {
      "cell_type": "code",
      "metadata": {
        "id": "zCWsqaQrbNHV"
      },
      "source": [
        "scaler=MinMaxScaler(feature_range=(0,1))\n",
        "dataset=scaler.fit_transform(dataset)"
      ],
      "execution_count": 10,
      "outputs": []
    },
    {
      "cell_type": "markdown",
      "metadata": {
        "id": "tPojX6iZbNHV"
      },
      "source": [
        "The train and test data will contain two-thirds and one-third of the dataset respectively."
      ]
    },
    {
      "cell_type": "code",
      "metadata": {
        "id": "CHzOfOAibNHV"
      },
      "source": [
        "train_size=int(len(dataset)*0.66)\n",
        "test_size=len(dataset)-train_size\n",
        "train,test = dataset[0:train_size],dataset[train_size:] #Splitting the dataset into test and train"
      ],
      "execution_count": 11,
      "outputs": []
    },
    {
      "cell_type": "code",
      "metadata": {
        "colab": {
          "base_uri": "https://localhost:8080/"
        },
        "id": "FV2FRfaCbNHV",
        "outputId": "5cbc2f1e-6412-459c-ce5f-6e4a3ce7073a"
      },
      "source": [
        "print(\"Train Size:\",train_size)\n",
        "print(\"Test Size\",test_size)"
      ],
      "execution_count": 12,
      "outputs": [
        {
          "output_type": "stream",
          "name": "stdout",
          "text": [
            "Train Size: 660\n",
            "Test Size 340\n"
          ]
        }
      ]
    },
    {
      "cell_type": "markdown",
      "metadata": {
        "id": "sjv77cUibNHW"
      },
      "source": [
        "The **to_sequences** method creates a dataset where X is the closing value of the cryptocurrency at a given time **(t, t-1, t-2...)** \n",
        "and Y is the closing value at the next time **(t + 1)**. Where **seq_size** is the number of previous time steps to use as input variables to predict the next time period."
      ]
    },
    {
      "cell_type": "code",
      "metadata": {
        "id": "xGDmHQxgbNHW"
      },
      "source": [
        "def to_sequences(dataset, seq_size=1):\n",
        "    x = []\n",
        "    y = []\n",
        "\n",
        "    for i in range(len(dataset)-seq_size-1):\n",
        "        window = dataset[i:(i+seq_size), 0]\n",
        "        x.append(window)\n",
        "        y.append(dataset[i+seq_size, 0])\n",
        "        \n",
        "    return np.array(x),np.array(y)"
      ],
      "execution_count": 13,
      "outputs": []
    },
    {
      "cell_type": "code",
      "metadata": {
        "colab": {
          "base_uri": "https://localhost:8080/"
        },
        "id": "1sq8XcTbbNHW",
        "outputId": "eb46ae40-0f8d-4779-e94e-f71ee0c3457f"
      },
      "source": [
        "seq_size = 10  # Number of time steps to look back \n",
        "#Larger sequences (look further back) may improve forecasting.\n",
        "\n",
        "trainX, trainY = to_sequences(train, seq_size)\n",
        "testX, testY = to_sequences(test, seq_size)\n",
        "\n",
        "print(\"Shape of training set: {}\".format(trainX.shape))\n",
        "print(\"Shape of test set: {}\".format(testX.shape))"
      ],
      "execution_count": 14,
      "outputs": [
        {
          "output_type": "stream",
          "name": "stdout",
          "text": [
            "Shape of training set: (649, 10)\n",
            "Shape of test set: (329, 10)\n"
          ]
        }
      ]
    },
    {
      "cell_type": "code",
      "metadata": {
        "colab": {
          "base_uri": "https://localhost:8080/"
        },
        "id": "5lsy490ZZsJH",
        "outputId": "a6c16d52-678c-4f13-81da-a57455d9a0dc"
      },
      "source": [
        "trainX.shape[0]"
      ],
      "execution_count": 15,
      "outputs": [
        {
          "output_type": "execute_result",
          "data": {
            "text/plain": [
              "649"
            ]
          },
          "metadata": {},
          "execution_count": 15
        }
      ]
    },
    {
      "cell_type": "code",
      "metadata": {
        "colab": {
          "base_uri": "https://localhost:8080/"
        },
        "id": "-HoPjQ7ebNHX",
        "outputId": "e83533cb-9d26-4814-cb84-c53cc7eb1634"
      },
      "source": [
        "#Convolutional univariate LSTM\n",
        "#The shape of input data must be: [samples, timesteps, rows, columns, features]\n",
        "\n",
        "trainX = trainX.reshape((trainX.shape[0], 1, 1, 1, seq_size))\n",
        "testX = testX.reshape((testX.shape[0], 1, 1, 1, seq_size))\n",
        "\n",
        "model = Sequential()\n",
        "model.add(ConvLSTM2D(filters=64, kernel_size=(1,1), activation='relu', input_shape=(1, 1, 1, seq_size)))\n",
        "model.add(Flatten())\n",
        "model.add(Dense(32))\n",
        "model.add(Dense(1))\n",
        "model.compile(optimizer='adam', loss='mean_squared_error')\n",
        "model.summary()\n"
      ],
      "execution_count": 16,
      "outputs": [
        {
          "output_type": "execute_result",
          "data": {
            "text/plain": [
              "array([[[[[0.00492071, 0.00317793, 0.00330018, ..., 0.00149661,\n",
              "           0.00020625, 0.        ]]]],\n",
              "\n",
              "\n",
              "\n",
              "       [[[[0.00317793, 0.00330018, 0.00552737, ..., 0.00020625,\n",
              "           0.        , 0.0002808 ]]]],\n",
              "\n",
              "\n",
              "\n",
              "       [[[[0.00330018, 0.00552737, 0.00366381, ..., 0.        ,\n",
              "           0.0002808 , 0.00492617]]]],\n",
              "\n",
              "\n",
              "\n",
              "       ...,\n",
              "\n",
              "\n",
              "\n",
              "       [[[[0.11976154, 0.11797088, 0.12358588, ..., 0.13035955,\n",
              "           0.1277028 , 0.11936891]]]],\n",
              "\n",
              "\n",
              "\n",
              "       [[[[0.11797088, 0.12358588, 0.12546682, ..., 0.1277028 ,\n",
              "           0.11936891, 0.12123083]]]],\n",
              "\n",
              "\n",
              "\n",
              "       [[[[0.12358588, 0.12546682, 0.12826158, ..., 0.11936891,\n",
              "           0.12123083, 0.11645722]]]]], dtype=float32)"
            ]
          },
          "metadata": {},
          "execution_count": 16
        }
      ]
    },
    {
      "cell_type": "code",
      "metadata": {
        "colab": {
          "base_uri": "https://localhost:8080/"
        },
        "id": "NbxBgygTbNHX",
        "outputId": "5a7d4cfe-72c3-435b-968e-34b35d17a632"
      },
      "source": [
        "model.fit(trainX, trainY, validation_data=(testX, testY),\n",
        "          verbose=2, epochs=100)"
      ],
      "execution_count": 19,
      "outputs": [
        {
          "output_type": "stream",
          "name": "stdout",
          "text": [
            "Epoch 1/100\n",
            "21/21 - 3s - loss: 0.0027 - val_loss: 0.1449\n",
            "Epoch 2/100\n",
            "21/21 - 0s - loss: 7.8923e-04 - val_loss: 0.0863\n",
            "Epoch 3/100\n",
            "21/21 - 0s - loss: 2.6222e-04 - val_loss: 0.0172\n",
            "Epoch 4/100\n",
            "21/21 - 0s - loss: 8.7954e-05 - val_loss: 0.0083\n",
            "Epoch 5/100\n",
            "21/21 - 0s - loss: 8.4823e-05 - val_loss: 0.0106\n",
            "Epoch 6/100\n",
            "21/21 - 0s - loss: 8.1804e-05 - val_loss: 0.0097\n",
            "Epoch 7/100\n",
            "21/21 - 0s - loss: 7.5261e-05 - val_loss: 0.0099\n",
            "Epoch 8/100\n",
            "21/21 - 0s - loss: 7.2213e-05 - val_loss: 0.0095\n",
            "Epoch 9/100\n",
            "21/21 - 0s - loss: 7.0044e-05 - val_loss: 0.0092\n",
            "Epoch 10/100\n",
            "21/21 - 0s - loss: 7.1660e-05 - val_loss: 0.0101\n",
            "Epoch 11/100\n",
            "21/21 - 0s - loss: 6.9740e-05 - val_loss: 0.0080\n",
            "Epoch 12/100\n",
            "21/21 - 0s - loss: 6.1184e-05 - val_loss: 0.0088\n",
            "Epoch 13/100\n",
            "21/21 - 0s - loss: 6.4721e-05 - val_loss: 0.0084\n",
            "Epoch 14/100\n",
            "21/21 - 0s - loss: 6.0032e-05 - val_loss: 0.0089\n",
            "Epoch 15/100\n",
            "21/21 - 0s - loss: 5.8557e-05 - val_loss: 0.0074\n",
            "Epoch 16/100\n",
            "21/21 - 0s - loss: 5.3423e-05 - val_loss: 0.0066\n",
            "Epoch 17/100\n",
            "21/21 - 0s - loss: 5.3379e-05 - val_loss: 0.0094\n",
            "Epoch 18/100\n",
            "21/21 - 0s - loss: 5.5372e-05 - val_loss: 0.0074\n",
            "Epoch 19/100\n",
            "21/21 - 0s - loss: 5.1193e-05 - val_loss: 0.0065\n",
            "Epoch 20/100\n",
            "21/21 - 0s - loss: 4.7617e-05 - val_loss: 0.0062\n",
            "Epoch 21/100\n",
            "21/21 - 0s - loss: 4.6764e-05 - val_loss: 0.0062\n",
            "Epoch 22/100\n",
            "21/21 - 0s - loss: 4.3495e-05 - val_loss: 0.0067\n",
            "Epoch 23/100\n",
            "21/21 - 0s - loss: 4.2467e-05 - val_loss: 0.0058\n",
            "Epoch 24/100\n",
            "21/21 - 0s - loss: 4.4065e-05 - val_loss: 0.0072\n",
            "Epoch 25/100\n",
            "21/21 - 0s - loss: 5.0195e-05 - val_loss: 0.0071\n",
            "Epoch 26/100\n",
            "21/21 - 0s - loss: 4.1239e-05 - val_loss: 0.0067\n",
            "Epoch 27/100\n",
            "21/21 - 0s - loss: 4.2813e-05 - val_loss: 0.0069\n",
            "Epoch 28/100\n",
            "21/21 - 0s - loss: 4.1200e-05 - val_loss: 0.0063\n",
            "Epoch 29/100\n",
            "21/21 - 0s - loss: 3.8776e-05 - val_loss: 0.0058\n",
            "Epoch 30/100\n",
            "21/21 - 0s - loss: 3.8709e-05 - val_loss: 0.0057\n",
            "Epoch 31/100\n",
            "21/21 - 0s - loss: 3.7300e-05 - val_loss: 0.0059\n",
            "Epoch 32/100\n",
            "21/21 - 0s - loss: 3.8212e-05 - val_loss: 0.0056\n",
            "Epoch 33/100\n",
            "21/21 - 0s - loss: 3.6881e-05 - val_loss: 0.0052\n",
            "Epoch 34/100\n",
            "21/21 - 0s - loss: 3.7704e-05 - val_loss: 0.0053\n",
            "Epoch 35/100\n",
            "21/21 - 0s - loss: 3.6994e-05 - val_loss: 0.0056\n",
            "Epoch 36/100\n",
            "21/21 - 0s - loss: 4.0233e-05 - val_loss: 0.0062\n",
            "Epoch 37/100\n",
            "21/21 - 0s - loss: 3.9403e-05 - val_loss: 0.0070\n",
            "Epoch 38/100\n",
            "21/21 - 0s - loss: 3.9737e-05 - val_loss: 0.0072\n",
            "Epoch 39/100\n",
            "21/21 - 0s - loss: 3.7641e-05 - val_loss: 0.0062\n",
            "Epoch 40/100\n",
            "21/21 - 0s - loss: 3.5982e-05 - val_loss: 0.0051\n",
            "Epoch 41/100\n",
            "21/21 - 0s - loss: 3.7033e-05 - val_loss: 0.0064\n",
            "Epoch 42/100\n",
            "21/21 - 0s - loss: 3.6746e-05 - val_loss: 0.0057\n",
            "Epoch 43/100\n",
            "21/21 - 0s - loss: 3.3815e-05 - val_loss: 0.0050\n",
            "Epoch 44/100\n",
            "21/21 - 0s - loss: 3.6970e-05 - val_loss: 0.0072\n",
            "Epoch 45/100\n",
            "21/21 - 0s - loss: 3.8125e-05 - val_loss: 0.0067\n",
            "Epoch 46/100\n",
            "21/21 - 0s - loss: 4.4627e-05 - val_loss: 0.0059\n",
            "Epoch 47/100\n",
            "21/21 - 0s - loss: 3.6187e-05 - val_loss: 0.0057\n",
            "Epoch 48/100\n",
            "21/21 - 0s - loss: 3.4485e-05 - val_loss: 0.0052\n",
            "Epoch 49/100\n",
            "21/21 - 0s - loss: 3.4322e-05 - val_loss: 0.0051\n",
            "Epoch 50/100\n",
            "21/21 - 0s - loss: 3.5340e-05 - val_loss: 0.0069\n",
            "Epoch 51/100\n",
            "21/21 - 0s - loss: 3.5511e-05 - val_loss: 0.0049\n",
            "Epoch 52/100\n",
            "21/21 - 0s - loss: 3.8219e-05 - val_loss: 0.0046\n",
            "Epoch 53/100\n",
            "21/21 - 0s - loss: 3.2677e-05 - val_loss: 0.0052\n",
            "Epoch 54/100\n",
            "21/21 - 0s - loss: 3.3026e-05 - val_loss: 0.0060\n",
            "Epoch 55/100\n",
            "21/21 - 0s - loss: 3.3768e-05 - val_loss: 0.0052\n",
            "Epoch 56/100\n",
            "21/21 - 0s - loss: 3.2759e-05 - val_loss: 0.0055\n",
            "Epoch 57/100\n",
            "21/21 - 0s - loss: 3.9097e-05 - val_loss: 0.0063\n",
            "Epoch 58/100\n",
            "21/21 - 0s - loss: 3.3002e-05 - val_loss: 0.0052\n",
            "Epoch 59/100\n",
            "21/21 - 0s - loss: 3.5335e-05 - val_loss: 0.0067\n",
            "Epoch 60/100\n",
            "21/21 - 0s - loss: 3.7030e-05 - val_loss: 0.0054\n",
            "Epoch 61/100\n",
            "21/21 - 0s - loss: 3.2980e-05 - val_loss: 0.0053\n",
            "Epoch 62/100\n",
            "21/21 - 0s - loss: 3.2240e-05 - val_loss: 0.0054\n",
            "Epoch 63/100\n",
            "21/21 - 0s - loss: 3.3201e-05 - val_loss: 0.0067\n",
            "Epoch 64/100\n",
            "21/21 - 0s - loss: 3.5038e-05 - val_loss: 0.0052\n",
            "Epoch 65/100\n",
            "21/21 - 0s - loss: 3.3819e-05 - val_loss: 0.0060\n",
            "Epoch 66/100\n",
            "21/21 - 0s - loss: 3.5743e-05 - val_loss: 0.0052\n",
            "Epoch 67/100\n",
            "21/21 - 0s - loss: 3.2298e-05 - val_loss: 0.0060\n",
            "Epoch 68/100\n",
            "21/21 - 0s - loss: 3.1809e-05 - val_loss: 0.0066\n",
            "Epoch 69/100\n",
            "21/21 - 0s - loss: 3.1536e-05 - val_loss: 0.0070\n",
            "Epoch 70/100\n",
            "21/21 - 0s - loss: 3.8897e-05 - val_loss: 0.0057\n",
            "Epoch 71/100\n",
            "21/21 - 0s - loss: 3.9462e-05 - val_loss: 0.0084\n",
            "Epoch 72/100\n",
            "21/21 - 0s - loss: 4.1788e-05 - val_loss: 0.0060\n",
            "Epoch 73/100\n",
            "21/21 - 0s - loss: 4.3810e-05 - val_loss: 0.0073\n",
            "Epoch 74/100\n",
            "21/21 - 0s - loss: 3.7069e-05 - val_loss: 0.0061\n",
            "Epoch 75/100\n",
            "21/21 - 0s - loss: 3.0701e-05 - val_loss: 0.0071\n",
            "Epoch 76/100\n",
            "21/21 - 0s - loss: 3.1143e-05 - val_loss: 0.0058\n",
            "Epoch 77/100\n",
            "21/21 - 0s - loss: 3.8006e-05 - val_loss: 0.0098\n",
            "Epoch 78/100\n",
            "21/21 - 0s - loss: 3.3364e-05 - val_loss: 0.0075\n",
            "Epoch 79/100\n",
            "21/21 - 0s - loss: 3.5260e-05 - val_loss: 0.0096\n",
            "Epoch 80/100\n",
            "21/21 - 0s - loss: 3.7851e-05 - val_loss: 0.0065\n",
            "Epoch 81/100\n",
            "21/21 - 0s - loss: 3.8536e-05 - val_loss: 0.0089\n",
            "Epoch 82/100\n",
            "21/21 - 0s - loss: 3.1267e-05 - val_loss: 0.0092\n",
            "Epoch 83/100\n",
            "21/21 - 0s - loss: 3.2587e-05 - val_loss: 0.0116\n",
            "Epoch 84/100\n",
            "21/21 - 0s - loss: 3.5417e-05 - val_loss: 0.0087\n",
            "Epoch 85/100\n",
            "21/21 - 0s - loss: 3.3587e-05 - val_loss: 0.0094\n",
            "Epoch 86/100\n",
            "21/21 - 0s - loss: 3.2145e-05 - val_loss: 0.0085\n",
            "Epoch 87/100\n",
            "21/21 - 0s - loss: 3.0796e-05 - val_loss: 0.0092\n",
            "Epoch 88/100\n",
            "21/21 - 0s - loss: 3.3594e-05 - val_loss: 0.0098\n",
            "Epoch 89/100\n",
            "21/21 - 0s - loss: 3.8548e-05 - val_loss: 0.0093\n",
            "Epoch 90/100\n",
            "21/21 - 0s - loss: 3.0302e-05 - val_loss: 0.0104\n",
            "Epoch 91/100\n",
            "21/21 - 0s - loss: 3.2488e-05 - val_loss: 0.0094\n",
            "Epoch 92/100\n",
            "21/21 - 0s - loss: 3.4138e-05 - val_loss: 0.0100\n",
            "Epoch 93/100\n",
            "21/21 - 0s - loss: 3.0714e-05 - val_loss: 0.0103\n",
            "Epoch 94/100\n",
            "21/21 - 0s - loss: 3.3227e-05 - val_loss: 0.0088\n",
            "Epoch 95/100\n",
            "21/21 - 0s - loss: 3.3010e-05 - val_loss: 0.0107\n",
            "Epoch 96/100\n",
            "21/21 - 0s - loss: 3.3835e-05 - val_loss: 0.0097\n",
            "Epoch 97/100\n",
            "21/21 - 0s - loss: 3.1144e-05 - val_loss: 0.0098\n",
            "Epoch 98/100\n",
            "21/21 - 0s - loss: 3.3760e-05 - val_loss: 0.0116\n",
            "Epoch 99/100\n",
            "21/21 - 0s - loss: 4.1690e-05 - val_loss: 0.0076\n",
            "Epoch 100/100\n",
            "21/21 - 0s - loss: 3.7344e-05 - val_loss: 0.0102\n"
          ]
        },
        {
          "output_type": "execute_result",
          "data": {
            "text/plain": [
              "<keras.callbacks.History at 0x7fbd9c7a5650>"
            ]
          },
          "metadata": {},
          "execution_count": 19
        }
      ]
    },
    {
      "cell_type": "code",
      "metadata": {
        "id": "JykWJXm1bNHY",
        "colab": {
          "base_uri": "https://localhost:8080/"
        },
        "outputId": "b218cdda-ce1f-41fb-98c6-a4a3d6160a91"
      },
      "source": [
        "#Making predictions\n",
        "trainPredict = model.predict(trainX)\n",
        "testPredict = model.predict(testX)\n",
        "testPredict"
      ],
      "execution_count": 20,
      "outputs": [
        {
          "output_type": "execute_result",
          "data": {
            "text/plain": [
              "array([[0.12422174],\n",
              "       [0.12295102],\n",
              "       [0.12311569],\n",
              "       [0.12645985],\n",
              "       [0.12879248],\n",
              "       [0.13199243],\n",
              "       [0.13414158],\n",
              "       [0.13618806],\n",
              "       [0.13589771],\n",
              "       [0.13545936],\n",
              "       [0.1357152 ],\n",
              "       [0.13386068],\n",
              "       [0.1335217 ],\n",
              "       [0.1351957 ],\n",
              "       [0.13865714],\n",
              "       [0.14138174],\n",
              "       [0.15081549],\n",
              "       [0.15529376],\n",
              "       [0.15512258],\n",
              "       [0.15627185],\n",
              "       [0.15670323],\n",
              "       [0.1565739 ],\n",
              "       [0.16138467],\n",
              "       [0.16085437],\n",
              "       [0.16203122],\n",
              "       [0.16413835],\n",
              "       [0.16624862],\n",
              "       [0.16688126],\n",
              "       [0.1653058 ],\n",
              "       [0.16843346],\n",
              "       [0.17070208],\n",
              "       [0.18070635],\n",
              "       [0.1857244 ],\n",
              "       [0.18039696],\n",
              "       [0.18202692],\n",
              "       [0.18397754],\n",
              "       [0.18407947],\n",
              "       [0.18666014],\n",
              "       [0.19373637],\n",
              "       [0.19641176],\n",
              "       [0.194169  ],\n",
              "       [0.193174  ],\n",
              "       [0.19769526],\n",
              "       [0.2071397 ],\n",
              "       [0.2113508 ],\n",
              "       [0.21203807],\n",
              "       [0.21793672],\n",
              "       [0.2217141 ],\n",
              "       [0.21983191],\n",
              "       [0.21930042],\n",
              "       [0.22592601],\n",
              "       [0.22702235],\n",
              "       [0.21525611],\n",
              "       [0.21062583],\n",
              "       [0.21564895],\n",
              "       [0.22104824],\n",
              "       [0.23210378],\n",
              "       [0.23135653],\n",
              "       [0.22947007],\n",
              "       [0.23144048],\n",
              "       [0.22698282],\n",
              "       [0.22777602],\n",
              "       [0.23202571],\n",
              "       [0.23361176],\n",
              "       [0.22668765],\n",
              "       [0.22588941],\n",
              "       [0.22536565],\n",
              "       [0.2221574 ],\n",
              "       [0.2270111 ],\n",
              "       [0.2321553 ],\n",
              "       [0.23370802],\n",
              "       [0.23367831],\n",
              "       [0.24679193],\n",
              "       [0.26314676],\n",
              "       [0.26962197],\n",
              "       [0.27513322],\n",
              "       [0.27561465],\n",
              "       [0.2702278 ],\n",
              "       [0.27648932],\n",
              "       [0.280221  ],\n",
              "       [0.2838375 ],\n",
              "       [0.2944423 ],\n",
              "       [0.31174052],\n",
              "       [0.31652534],\n",
              "       [0.31938195],\n",
              "       [0.32496068],\n",
              "       [0.33630484],\n",
              "       [0.3438499 ],\n",
              "       [0.34756154],\n",
              "       [0.3718952 ],\n",
              "       [0.39063072],\n",
              "       [0.3870613 ],\n",
              "       [0.39703602],\n",
              "       [0.4286678 ],\n",
              "       [0.46104646],\n",
              "       [0.48097888],\n",
              "       [0.48329026],\n",
              "       [0.46856254],\n",
              "       [0.4432956 ],\n",
              "       [0.428161  ],\n",
              "       [0.45525014],\n",
              "       [0.49060553],\n",
              "       [0.4814253 ],\n",
              "       [0.46352988],\n",
              "       [0.45678592],\n",
              "       [0.45938915],\n",
              "       [0.45496857],\n",
              "       [0.44967985],\n",
              "       [0.41627735],\n",
              "       [0.41298872],\n",
              "       [0.41737667],\n",
              "       [0.41271704],\n",
              "       [0.41301852],\n",
              "       [0.41218984],\n",
              "       [0.39661032],\n",
              "       [0.40356356],\n",
              "       [0.4234577 ],\n",
              "       [0.42332527],\n",
              "       [0.41400042],\n",
              "       [0.41131237],\n",
              "       [0.42877904],\n",
              "       [0.45189703],\n",
              "       [0.4569855 ],\n",
              "       [0.46341103],\n",
              "       [0.47762403],\n",
              "       [0.47789842],\n",
              "       [0.53425765],\n",
              "       [0.56952083],\n",
              "       [0.55684805],\n",
              "       [0.57488453],\n",
              "       [0.587968  ],\n",
              "       [0.5864364 ],\n",
              "       [0.6013841 ],\n",
              "       [0.6124576 ],\n",
              "       [0.6243162 ],\n",
              "       [0.65854794],\n",
              "       [0.6693805 ],\n",
              "       [0.70089406],\n",
              "       [0.7217568 ],\n",
              "       [0.73330426],\n",
              "       [0.7130398 ],\n",
              "       [0.6580195 ],\n",
              "       [0.6488216 ],\n",
              "       [0.6413172 ],\n",
              "       [0.6321985 ],\n",
              "       [0.63066596],\n",
              "       [0.62516415],\n",
              "       [0.65125644],\n",
              "       [0.6525016 ],\n",
              "       [0.65410054],\n",
              "       [0.6386192 ],\n",
              "       [0.6293435 ],\n",
              "       [0.63118553],\n",
              "       [0.64927685],\n",
              "       [0.67479396],\n",
              "       [0.7020792 ],\n",
              "       [0.72376144],\n",
              "       [0.7404758 ],\n",
              "       [0.74426746],\n",
              "       [0.77452457],\n",
              "       [0.77875364],\n",
              "       [0.7432635 ],\n",
              "       [0.74631834],\n",
              "       [0.7788588 ],\n",
              "       [0.784234  ],\n",
              "       [0.78258944],\n",
              "       [0.789446  ],\n",
              "       [0.7821752 ],\n",
              "       [0.7482228 ],\n",
              "       [0.73358566],\n",
              "       [0.72129256],\n",
              "       [0.7056031 ],\n",
              "       [0.7340034 ],\n",
              "       [0.7574611 ],\n",
              "       [0.75569725],\n",
              "       [0.76337147],\n",
              "       [0.7769402 ],\n",
              "       [0.7763287 ],\n",
              "       [0.7741017 ],\n",
              "       [0.7789382 ],\n",
              "       [0.7682688 ],\n",
              "       [0.77412826],\n",
              "       [0.792717  ],\n",
              "       [0.79046506],\n",
              "       [0.7688581 ],\n",
              "       [0.7783391 ],\n",
              "       [0.7905275 ],\n",
              "       [0.80245316],\n",
              "       [0.81138057],\n",
              "       [0.80970263],\n",
              "       [0.8402068 ],\n",
              "       [0.8508724 ],\n",
              "       [0.84782517],\n",
              "       [0.83337164],\n",
              "       [0.81775045],\n",
              "       [0.782553  ],\n",
              "       [0.7649384 ],\n",
              "       [0.7776468 ],\n",
              "       [0.7624821 ],\n",
              "       [0.73247486],\n",
              "       [0.714427  ],\n",
              "       [0.6997918 ],\n",
              "       [0.6797288 ],\n",
              "       [0.71156204],\n",
              "       [0.7394195 ],\n",
              "       [0.73450655],\n",
              "       [0.7149036 ],\n",
              "       [0.738413  ],\n",
              "       [0.7570894 ],\n",
              "       [0.7452543 ],\n",
              "       [0.7485815 ],\n",
              "       [0.7235945 ],\n",
              "       [0.7460724 ],\n",
              "       [0.7608318 ],\n",
              "       [0.7664453 ],\n",
              "       [0.785089  ],\n",
              "       [0.7877202 ],\n",
              "       [0.7614325 ],\n",
              "       [0.7534126 ],\n",
              "       [0.7030433 ],\n",
              "       [0.67175305],\n",
              "       [0.6821703 ],\n",
              "       [0.6612857 ],\n",
              "       [0.6436862 ],\n",
              "       [0.61497915],\n",
              "       [0.59423023],\n",
              "       [0.5332126 ],\n",
              "       [0.5330483 ],\n",
              "       [0.52251726],\n",
              "       [0.50291795],\n",
              "       [0.47988746],\n",
              "       [0.49211228],\n",
              "       [0.50412047],\n",
              "       [0.4961914 ],\n",
              "       [0.4937977 ],\n",
              "       [0.46273124],\n",
              "       [0.44394892],\n",
              "       [0.44607216],\n",
              "       [0.46754384],\n",
              "       [0.46949434],\n",
              "       [0.47455692],\n",
              "       [0.48851514],\n",
              "       [0.47339875],\n",
              "       [0.4495396 ],\n",
              "       [0.44694182],\n",
              "       [0.43548563],\n",
              "       [0.4269852 ],\n",
              "       [0.45870262],\n",
              "       [0.47149146],\n",
              "       [0.4684351 ],\n",
              "       [0.45433784],\n",
              "       [0.47015274],\n",
              "       [0.4948623 ],\n",
              "       [0.49665987],\n",
              "       [0.48257387],\n",
              "       [0.4744555 ],\n",
              "       [0.4611987 ],\n",
              "       [0.44995505],\n",
              "       [0.4549636 ],\n",
              "       [0.42907333],\n",
              "       [0.42070842],\n",
              "       [0.43245122],\n",
              "       [0.4425807 ],\n",
              "       [0.41804844],\n",
              "       [0.40702438],\n",
              "       [0.42694992],\n",
              "       [0.4312515 ],\n",
              "       [0.4388293 ],\n",
              "       [0.43656465],\n",
              "       [0.4223172 ],\n",
              "       [0.41696516],\n",
              "       [0.42668557],\n",
              "       [0.43697053],\n",
              "       [0.4289087 ],\n",
              "       [0.42760304],\n",
              "       [0.42723823],\n",
              "       [0.41762587],\n",
              "       [0.41999748],\n",
              "       [0.42243797],\n",
              "       [0.42728367],\n",
              "       [0.42050076],\n",
              "       [0.41235977],\n",
              "       [0.41104597],\n",
              "       [0.4044489 ],\n",
              "       [0.3975392 ],\n",
              "       [0.3966018 ],\n",
              "       [0.40032473],\n",
              "       [0.39301473],\n",
              "       [0.3805489 ],\n",
              "       [0.39266935],\n",
              "       [0.40259567],\n",
              "       [0.41072953],\n",
              "       [0.4189728 ],\n",
              "       [0.42826933],\n",
              "       [0.4451605 ],\n",
              "       [0.4678542 ],\n",
              "       [0.48180103],\n",
              "       [0.48396507],\n",
              "       [0.5034645 ],\n",
              "       [0.5099124 ],\n",
              "       [0.49739683],\n",
              "       [0.48981354],\n",
              "       [0.4863259 ],\n",
              "       [0.49900314],\n",
              "       [0.517438  ],\n",
              "       [0.53887284],\n",
              "       [0.55885047],\n",
              "       [0.5566819 ],\n",
              "       [0.5683254 ],\n",
              "       [0.5722222 ],\n",
              "       [0.5695601 ],\n",
              "       [0.5636517 ],\n",
              "       [0.5911306 ],\n",
              "       [0.60591185],\n",
              "       [0.6025758 ],\n",
              "       [0.596298  ],\n",
              "       [0.58269227],\n",
              "       [0.58001614],\n",
              "       [0.5970895 ],\n",
              "       [0.63016593],\n",
              "       [0.6363142 ],\n",
              "       [0.63553005],\n",
              "       [0.63635516],\n",
              "       [0.62122   ],\n",
              "       [0.6236273 ],\n",
              "       [0.6166477 ],\n",
              "       [0.6297412 ],\n",
              "       [0.6422301 ],\n",
              "       [0.64112806]], dtype=float32)"
            ]
          },
          "metadata": {},
          "execution_count": 20
        }
      ]
    },
    {
      "cell_type": "markdown",
      "metadata": {
        "id": "SW2JPUfMbNHY"
      },
      "source": [
        "We must invert the prediction back to prescaled values in order to compare them with the original input values. Since we used **MinMaxScaler** to **normalize** the original values, we can now use **scaler.inverse_transform** to **reverse the tranformation**(normalization)."
      ]
    },
    {
      "cell_type": "code",
      "metadata": {
        "id": "Z9VVu0nfbNHY"
      },
      "source": [
        "trainPredict = scaler.inverse_transform(trainPredict)\n",
        "trainY = scaler.inverse_transform([trainY])\n",
        "testPredict = scaler.inverse_transform(testPredict)\n",
        "testY = scaler.inverse_transform([testY])"
      ],
      "execution_count": 21,
      "outputs": []
    },
    {
      "cell_type": "code",
      "metadata": {
        "id": "IHhTNoWPbNHY",
        "colab": {
          "base_uri": "https://localhost:8080/"
        },
        "outputId": "4d534835-9790-4a2e-82d1-2b0ca0f7b44f"
      },
      "source": [
        "# calculate root mean squared error\n",
        "trainScore = math.sqrt(mean_squared_error(trainY[0], trainPredict[:,0]))\n",
        "print('Train Score: %.2f RMSE' % (trainScore))\n",
        "\n",
        "testScore = math.sqrt(mean_squared_error(testY[0], testPredict[:,0]))\n",
        "print('Test Score: %.2f RMSE' % (testScore))"
      ],
      "execution_count": 22,
      "outputs": [
        {
          "output_type": "stream",
          "name": "stdout",
          "text": [
            "Train Score: 324.73 RMSE\n",
            "Test Score: 6099.08 RMSE\n"
          ]
        }
      ]
    },
    {
      "cell_type": "markdown",
      "metadata": {
        "id": "-G77pGcMR34h"
      },
      "source": [
        "plt.figure()\n",
        "plt.plot(history.history['loss'])\n",
        "plt.plot(history.history['val_loss'])\n",
        "plt.title('Model loss')\n",
        "plt.ylabel('Loss')\n",
        "plt.xlabel('Epoch')\n",
        "plt.legend(['Train', 'Test'], loc='upper left')"
      ]
    },
    {
      "cell_type": "code",
      "metadata": {
        "id": "-P-uqtc1bNHY"
      },
      "source": [
        "#Shift train predictions for plotting\n",
        "#We must shift the predictions so that they align on the x-axis with the original dataset. \n",
        "trainPredictPlot = np.empty_like(dataset)\n",
        "trainPredictPlot[:, :] = np.nan\n",
        "trainPredictPlot[seq_size:len(trainPredict)+seq_size, :] = trainPredict\n",
        "\n",
        "# Shift test predictions for plotting\n",
        "testPredictPlot = np.empty_like(dataset)\n",
        "testPredictPlot[:, :] = np.nan\n",
        "testPredictPlot[len(trainPredict)+(seq_size*2)+1:len(dataset)-1, :] = testPredict"
      ],
      "execution_count": 23,
      "outputs": []
    },
    {
      "cell_type": "code",
      "metadata": {
        "colab": {
          "base_uri": "https://localhost:8080/"
        },
        "id": "CN2xc-J5ExQs",
        "outputId": "305faa8e-d84f-4645-80f7-9a558e33bce8"
      },
      "source": [
        "dates_ind=[]\n",
        "for i in range(999,0,-100):\n",
        "  dates_ind.append(i)\n",
        "dates_ind.append(0)\n",
        "\n",
        "dates=[]\n",
        "\n",
        "for i in dates_ind:\n",
        "  dates.append(crypto_data.iloc[i].name.date())\n",
        "dates"
      ],
      "execution_count": 24,
      "outputs": [
        {
          "output_type": "execute_result",
          "data": {
            "text/plain": [
              "[datetime.date(2018, 12, 6),\n",
              " datetime.date(2019, 3, 16),\n",
              " datetime.date(2019, 6, 24),\n",
              " datetime.date(2019, 10, 2),\n",
              " datetime.date(2020, 1, 10),\n",
              " datetime.date(2020, 4, 19),\n",
              " datetime.date(2020, 7, 28),\n",
              " datetime.date(2020, 11, 5),\n",
              " datetime.date(2021, 2, 13),\n",
              " datetime.date(2021, 5, 24),\n",
              " datetime.date(2021, 8, 31)]"
            ]
          },
          "metadata": {},
          "execution_count": 24
        }
      ]
    },
    {
      "cell_type": "code",
      "metadata": {
        "id": "zc4K4RwubNHZ",
        "colab": {
          "base_uri": "https://localhost:8080/",
          "height": 548
        },
        "outputId": "5b394bf2-d45a-4ebd-9698-16fd5d1f037a"
      },
      "source": [
        "\n",
        "\n",
        "# plot baseline and predictions\n",
        "fig, ax = plt.subplots(figsize=(20, 10))\n",
        "\n",
        "plt.plot(scaler.inverse_transform(dataset), label=\"Actual Closing Value\")\n",
        "plt.plot(trainPredictPlot, label=\"Predicted Values on Train Data\")\n",
        "plt.plot(testPredictPlot, label=\"Predicted Values on Test Data\")\n",
        "plt.legend(bbox_to_anchor=(1.05, 1), loc='upper left', borderaxespad=0.)\n",
        "\n",
        "plt.ylabel('Prices in USD')\n",
        "  \n",
        "plt.xticks([0,100, 200, 300, 400, 500, 600, 700, 800, 900, 999],dates)\n",
        "plt.show()"
      ],
      "execution_count": 25,
      "outputs": [
        {
          "output_type": "display_data",
          "data": {
            "image/png": "[encoded data removed]",
            "text/plain": [
              "<Figure size 1440x720 with 1 Axes>"
            ]
          },
          "metadata": {
            "needs_background": "light"
          }
        }
      ]
    },
    {
      "cell_type": "code",
      "metadata": {
        "colab": {
          "base_uri": "https://localhost:8080/"
        },
        "id": "3NkRGO7SYqsz",
        "outputId": "59b8c6ae-79d7-4563-aadb-9efa011b380c"
      },
      "source": [
        "scaler.inverse_transform(dataset[-20:])"
      ],
      "execution_count": 54,
      "outputs": [
        {
          "output_type": "execute_result",
          "data": {
            "text/plain": [
              "array([[44399.  ],\n",
              "       [47800.  ],\n",
              "       [47068.51],\n",
              "       [46973.82],\n",
              "       [45901.29],\n",
              "       [44695.95],\n",
              "       [44705.29],\n",
              "       [46760.62],\n",
              "       [49322.47],\n",
              "       [48821.87],\n",
              "       [49239.22],\n",
              "       [49488.85],\n",
              "       [47674.01],\n",
              "       [48973.32],\n",
              "       [46843.87],\n",
              "       [49069.9 ],\n",
              "       [48895.35],\n",
              "       [48767.83],\n",
              "       [46982.91],\n",
              "       [46870.12]], dtype=float32)"
            ]
          },
          "metadata": {},
          "execution_count": 54
        }
      ]
    },
    {
      "cell_type": "code",
      "metadata": {
        "colab": {
          "base_uri": "https://localhost:8080/"
        },
        "id": "TDTUtIhai-Ge",
        "outputId": "c0277cde-0dff-4a03-e6dc-0ba706697d1a"
      },
      "source": [
        "x_input = dataset[-50:]\n",
        "x_pred, y_pred = to_sequences(x_input,10)\n",
        "x_pred = x_pred.reshape(x_pred.shape[0],1,1,1,10)\n",
        "x_pred"
      ],
      "execution_count": 62,
      "outputs": [
        {
          "output_type": "execute_result",
          "data": {
            "text/plain": [
              "array([[[[[0.4890067 , 0.49050182, 0.47492915, 0.46671003, 0.46896642,\n",
              "           0.47324866, 0.4576943 , 0.4403112 , 0.4793111 , 0.4816854 ]]]],\n",
              "\n",
              "\n",
              "\n",
              "       [[[[0.49050182, 0.47492915, 0.46671003, 0.46896642, 0.47324866,\n",
              "           0.4576943 , 0.4403112 , 0.4793111 , 0.4816854 , 0.503988  ]]]],\n",
              "\n",
              "\n",
              "\n",
              "       [[[[0.47492915, 0.46671003, 0.46896642, 0.47324866, 0.4576943 ,\n",
              "           0.4403112 , 0.4793111 , 0.4816854 , 0.503988  , 0.5143263 ]]]],\n",
              "\n",
              "\n",
              "\n",
              "       [[[[0.46671003, 0.46896642, 0.47324866, 0.4576943 , 0.4403112 ,\n",
              "           0.4793111 , 0.4816854 , 0.503988  , 0.5143263 , 0.5329283 ]]]],\n",
              "\n",
              "\n",
              "\n",
              "       [[[[0.46896642, 0.47324866, 0.4576943 , 0.4403112 , 0.4793111 ,\n",
              "           0.4816854 , 0.503988  , 0.5143263 , 0.5329283 , 0.5636851 ]]]],\n",
              "\n",
              "\n",
              "\n",
              "       [[[[0.47324866, 0.4576943 , 0.4403112 , 0.4793111 , 0.4816854 ,\n",
              "           0.503988  , 0.5143263 , 0.5329283 , 0.5636851 , 0.6004669 ]]]],\n",
              "\n",
              "\n",
              "\n",
              "       [[[[0.4576943 , 0.4403112 , 0.4793111 , 0.4816854 , 0.503988  ,\n",
              "           0.5143263 , 0.5329283 , 0.5636851 , 0.6004669 , 0.609772  ]]]],\n",
              "\n",
              "\n",
              "\n",
              "       [[[[0.4403112 , 0.4793111 , 0.4816854 , 0.503988  , 0.5143263 ,\n",
              "           0.5329283 , 0.5636851 , 0.6004669 , 0.609772  , 0.609721  ]]]],\n",
              "\n",
              "\n",
              "\n",
              "       [[[[0.4793111 , 0.4816854 , 0.503988  , 0.5143263 , 0.5329283 ,\n",
              "           0.5636851 , 0.6004669 , 0.609772  , 0.609721  , 0.64599955]]]],\n",
              "\n",
              "\n",
              "\n",
              "       [[[[0.4816854 , 0.503988  , 0.5143263 , 0.5329283 , 0.5636851 ,\n",
              "           0.6004669 , 0.609772  , 0.609721  , 0.64599955, 0.63366514]]]],\n",
              "\n",
              "\n",
              "\n",
              "       [[[[0.503988  , 0.5143263 , 0.5329283 , 0.5636851 , 0.6004669 ,\n",
              "           0.609772  , 0.609721  , 0.64599955, 0.63366514, 0.6068875 ]]]],\n",
              "\n",
              "\n",
              "\n",
              "       [[[[0.5143263 , 0.5329283 , 0.5636851 , 0.6004669 , 0.609772  ,\n",
              "           0.609721  , 0.64599955, 0.63366514, 0.6068875 , 0.5953305 ]]]],\n",
              "\n",
              "\n",
              "\n",
              "       [[[[0.5329283 , 0.5636851 , 0.6004669 , 0.609772  , 0.609721  ,\n",
              "           0.64599955, 0.63366514, 0.6068875 , 0.5953305 , 0.57974535]]]],\n",
              "\n",
              "\n",
              "\n",
              "       [[[[0.5636851 , 0.6004669 , 0.609772  , 0.609721  , 0.64599955,\n",
              "           0.63366514, 0.6068875 , 0.5953305 , 0.57974535, 0.6048621 ]]]],\n",
              "\n",
              "\n",
              "\n",
              "       [[[[0.6004669 , 0.609772  , 0.609721  , 0.64599955, 0.63366514,\n",
              "           0.6068875 , 0.5953305 , 0.57974535, 0.6048621 , 0.62373585]]]],\n",
              "\n",
              "\n",
              "\n",
              "       [[[[0.609772  , 0.609721  , 0.64599955, 0.63366514, 0.6068875 ,\n",
              "           0.5953305 , 0.57974535, 0.6048621 , 0.62373585, 0.6564446 ]]]],\n",
              "\n",
              "\n",
              "\n",
              "       [[[[0.609721  , 0.64599955, 0.63366514, 0.6068875 , 0.5953305 ,\n",
              "           0.57974535, 0.6048621 , 0.62373585, 0.6564446 , 0.6851983 ]]]],\n",
              "\n",
              "\n",
              "\n",
              "       [[[[0.64599955, 0.63366514, 0.6068875 , 0.5953305 , 0.57974535,\n",
              "           0.6048621 , 0.62373585, 0.6564446 , 0.6851983 , 0.6723069 ]]]],\n",
              "\n",
              "\n",
              "\n",
              "       [[[[0.63366514, 0.6068875 , 0.5953305 , 0.57974535, 0.6048621 ,\n",
              "           0.62373585, 0.6564446 , 0.6851983 , 0.6723069 , 0.71304405]]]],\n",
              "\n",
              "\n",
              "\n",
              "       [[[[0.6068875 , 0.5953305 , 0.57974535, 0.6048621 , 0.62373585,\n",
              "           0.6564446 , 0.6851983 , 0.6723069 , 0.71304405, 0.70197093]]]],\n",
              "\n",
              "\n",
              "\n",
              "       [[[[0.5953305 , 0.57974535, 0.6048621 , 0.62373585, 0.6564446 ,\n",
              "           0.6851983 , 0.6723069 , 0.71304405, 0.70197093, 0.7007452 ]]]],\n",
              "\n",
              "\n",
              "\n",
              "       [[[[0.57974535, 0.6048621 , 0.62373585, 0.6564446 , 0.6851983 ,\n",
              "           0.6723069 , 0.71304405, 0.70197093, 0.7007452 , 0.6823234 ]]]],\n",
              "\n",
              "\n",
              "\n",
              "       [[[[0.6048621 , 0.62373585, 0.6564446 , 0.6851983 , 0.6723069 ,\n",
              "           0.71304405, 0.70197093, 0.7007452 , 0.6823234 , 0.73866564]]]],\n",
              "\n",
              "\n",
              "\n",
              "       [[[[0.62373585, 0.6564446 , 0.6851983 , 0.6723069 , 0.71304405,\n",
              "           0.70197093, 0.7007452 , 0.6823234 , 0.73866564, 0.72654754]]]],\n",
              "\n",
              "\n",
              "\n",
              "       [[[[0.6564446 , 0.6851983 , 0.6723069 , 0.71304405, 0.70197093,\n",
              "           0.7007452 , 0.6823234 , 0.73866564, 0.72654754, 0.7249788 ]]]],\n",
              "\n",
              "\n",
              "\n",
              "       [[[[0.6851983 , 0.6723069 , 0.71304405, 0.70197093, 0.7007452 ,\n",
              "           0.6823234 , 0.73866564, 0.72654754, 0.7249788 , 0.7072109 ]]]],\n",
              "\n",
              "\n",
              "\n",
              "       [[[[0.6723069 , 0.71304405, 0.70197093, 0.7007452 , 0.6823234 ,\n",
              "           0.73866564, 0.72654754, 0.7249788 , 0.7072109 , 0.6872428 ]]]],\n",
              "\n",
              "\n",
              "\n",
              "       [[[[0.71304405, 0.70197093, 0.7007452 , 0.6823234 , 0.73866564,\n",
              "           0.72654754, 0.7249788 , 0.7072109 , 0.6872428 , 0.68739754]]]],\n",
              "\n",
              "\n",
              "\n",
              "       [[[[0.70197093, 0.7007452 , 0.6823234 , 0.73866564, 0.72654754,\n",
              "           0.7249788 , 0.7072109 , 0.6872428 , 0.68739754, 0.7214469 ]]]],\n",
              "\n",
              "\n",
              "\n",
              "       [[[[0.7007452 , 0.6823234 , 0.73866564, 0.72654754, 0.7249788 ,\n",
              "           0.7072109 , 0.6872428 , 0.68739754, 0.7214469 , 0.7638874 ]]]],\n",
              "\n",
              "\n",
              "\n",
              "       [[[[0.6823234 , 0.73866564, 0.72654754, 0.7249788 , 0.7072109 ,\n",
              "           0.6872428 , 0.68739754, 0.7214469 , 0.7638874 , 0.7555943 ]]]],\n",
              "\n",
              "\n",
              "\n",
              "       [[[[0.73866564, 0.72654754, 0.7249788 , 0.7072109 , 0.6872428 ,\n",
              "           0.68739754, 0.7214469 , 0.7638874 , 0.7555943 , 0.7625082 ]]]],\n",
              "\n",
              "\n",
              "\n",
              "       [[[[0.72654754, 0.7249788 , 0.7072109 , 0.6872428 , 0.68739754,\n",
              "           0.7214469 , 0.7638874 , 0.7555943 , 0.7625082 , 0.76664376]]]],\n",
              "\n",
              "\n",
              "\n",
              "       [[[[0.7249788 , 0.7072109 , 0.6872428 , 0.68739754, 0.7214469 ,\n",
              "           0.7638874 , 0.7555943 , 0.7625082 , 0.76664376, 0.73657846]]]],\n",
              "\n",
              "\n",
              "\n",
              "       [[[[0.7072109 , 0.6872428 , 0.68739754, 0.7214469 , 0.7638874 ,\n",
              "           0.7555943 , 0.7625082 , 0.76664376, 0.73657846, 0.75810325]]]],\n",
              "\n",
              "\n",
              "\n",
              "       [[[[0.6872428 , 0.68739754, 0.7214469 , 0.7638874 , 0.7555943 ,\n",
              "           0.7625082 , 0.76664376, 0.73657846, 0.75810325, 0.72282606]]]],\n",
              "\n",
              "\n",
              "\n",
              "       [[[[0.68739754, 0.7214469 , 0.7638874 , 0.7555943 , 0.7625082 ,\n",
              "           0.76664376, 0.73657846, 0.75810325, 0.72282606, 0.7597032 ]]]],\n",
              "\n",
              "\n",
              "\n",
              "       [[[[0.7214469 , 0.7638874 , 0.7555943 , 0.7625082 , 0.76664376,\n",
              "           0.73657846, 0.75810325, 0.72282606, 0.7597032 , 0.7568116 ]]]],\n",
              "\n",
              "\n",
              "\n",
              "       [[[[0.7638874 , 0.7555943 , 0.7625082 , 0.76664376, 0.73657846,\n",
              "           0.75810325, 0.72282606, 0.7597032 , 0.7568116 , 0.754699  ]]]]],\n",
              "      dtype=float32)"
            ]
          },
          "metadata": {},
          "execution_count": 62
        }
      ]
    },
    {
      "cell_type": "code",
      "metadata": {
        "colab": {
          "base_uri": "https://localhost:8080/"
        },
        "id": "JU34NS-Uks6N",
        "outputId": "3d2624c7-6676-464a-b3d8-855aa23d13fb"
      },
      "source": [
        "future_predict = model.predict(x_pred)\n",
        "future_predict = scaler.inverse_transform(future_predict)\n",
        "future_predict"
      ],
      "execution_count": 63,
      "outputs": [
        {
          "output_type": "execute_result",
          "data": {
            "text/plain": [
              "array([[27513.717],\n",
              "       [28004.701],\n",
              "       [28502.291],\n",
              "       [29063.46 ],\n",
              "       [30083.068],\n",
              "       [31452.934],\n",
              "       [32294.81 ],\n",
              "       [32425.441],\n",
              "       [33602.49 ],\n",
              "       [33991.703],\n",
              "       [33236.223],\n",
              "       [32778.473],\n",
              "       [32567.947],\n",
              "       [33333.188],\n",
              "       [34445.977],\n",
              "       [35739.85 ],\n",
              "       [36945.766],\n",
              "       [36814.863],\n",
              "       [37517.707],\n",
              "       [37752.926],\n",
              "       [37592.24 ],\n",
              "       [37235.586],\n",
              "       [38894.305],\n",
              "       [39786.547],\n",
              "       [39585.17 ],\n",
              "       [39206.223],\n",
              "       [38384.938],\n",
              "       [38223.4  ],\n",
              "       [39254.004],\n",
              "       [41250.6  ],\n",
              "       [41621.734],\n",
              "       [41574.4  ],\n",
              "       [41624.207],\n",
              "       [40710.598],\n",
              "       [40855.91 ],\n",
              "       [40434.598],\n",
              "       [41224.973],\n",
              "       [41978.836],\n",
              "       [41912.312]], dtype=float32)"
            ]
          },
          "metadata": {},
          "execution_count": 63
        }
      ]
    },
    {
      "cell_type": "code",
      "metadata": {
        "colab": {
          "base_uri": "https://localhost:8080/",
          "height": 612
        },
        "id": "TY6jktydwL2m",
        "outputId": "1d147132-d811-47e0-f9af-eab6eb8346a6"
      },
      "source": [
        "\n",
        "\n",
        "# plot baseline and predictions\n",
        "fig, ax = plt.subplots(figsize=(20, 10))\n",
        "\n",
        "plt.plot(scaler.inverse_transform(dataset), label=\"Actual Closing Value\")\n",
        "plt.legend(bbox_to_anchor=(1.05, 1), loc='upper left', borderaxespad=0.)\n",
        "plt.plot(future_predict, label = \"Future Predicted Values\")\n",
        "plt.ylabel('Prices in USD')\n",
        "  \n",
        "plt.xticks([0,100, 200, 300, 400, 500, 600, 700, 800, 900, 999],dates)\n",
        "plt.show()"
      ],
      "execution_count": 65,
      "outputs": [
        {
          "output_type": "display_data",
          "data": {
            "image/png": "[encoded data removed]",
            "text/plain": [
              "<Figure size 1440x720 with 1 Axes>"
            ]
          },
          "metadata": {
            "needs_background": "light"
          }
        }
      ]
    }
  ]
}